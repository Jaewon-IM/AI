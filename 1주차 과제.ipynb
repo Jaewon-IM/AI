{
  "nbformat": 4,
  "nbformat_minor": 0,
  "metadata": {
    "colab": {
      "name": "1주차.ipynb의 사본",
      "provenance": [],
      "include_colab_link": true
    },
    "kernelspec": {
      "name": "python3",
      "display_name": "Python 3"
    }
  },
  "cells": [
    {
      "cell_type": "markdown",
      "metadata": {
        "id": "view-in-github",
        "colab_type": "text"
      },
      "source": [
        "<a href=\"https://colab.research.google.com/github/Jaewon-IM/AI/blob/master/1%EC%A3%BC%EC%B0%A8%20%EA%B3%BC%EC%A0%9C.ipynb\" target=\"_parent\"><img src=\"https://colab.research.google.com/assets/colab-badge.svg\" alt=\"Open In Colab\"/></a>"
      ]
    },
    {
      "cell_type": "markdown",
      "metadata": {
        "id": "8XTEbiKBCghI",
        "colab_type": "text"
      },
      "source": [
        "## 1주차 과제\n",
        "\n",
        "1. **언어**\n",
        "  1. 구글 워드렌즈\n",
        "    * 구글이 번역 기술 강화를 위해 워드렌즈를 개발한 '퀘스트 비주얼'을 매입함\n",
        "    * 카메라를 통해 사진을 찍지 않아도 실시간으로 텍스트를 번역해 준다.\n",
        "  2. Yooul\n",
        "    * 율Yooul은 외국인 친구들과 언어장벽 없이 대화를 나눌 수 있는 웹서비스 및 어플이다.\n",
        "    * 언어를 입력하면 자신이 지정한 언어로 자동 번역하여 상대방에게 보여준다. \n",
        "\n",
        "2. **음성**\n",
        "  1. 빅스비\n",
        "    * 삼성전자에서 공개한 음성인식 기반 개인 비서. 애플리케이션\n",
        "    * '~해줘' 와 같이 말하면 실시간 번역, 텍스트 추출, 쇼핑, 이미지 검색, 리마인더 등을 사용 가능하다.\n",
        "  2. 아마존 에코\n",
        "    * 사용자 음성을 인식, 해석하고 질문에 맞는 결과를 다시 출력해주는 시스템 : 음성인식 어시스턴트 알렉사는 아마존 클라우드 서버에 저장되어 있어 지속적 지능 학습 가능하다.\n",
        "\n",
        "\n",
        "3. **이미지**\n",
        "  1. 이미지 검색 서비스\n",
        "    * 2001년 구글이 최초시행 하였고, Bing, 바이두 등 여러 사이트에서 시행하고 있다.\n",
        "    * 원하는 사진을 클릭해서 끌어와서 검색한다.\n",
        "    * 스타핑(Staping) : 인공지능 이미지 검색쇼핑.\n",
        "  2. 네이버 멀티미디어 인식 서비스\n",
        "    * 클라우드에 사진을 저장하면 사진 이미지를 인식해 카테고리별로 자동으로 정리해 준다.\n",
        "\n",
        "4. **자율주행**\n",
        "  1. BMW의 미러리스\n",
        "    * 측면 거울을 카메라가 대신하는 기술.\n",
        "    * 카메라 센서가 데이터를 수집하면 딥러닝 기반의 슈퍼컴퓨터가 주변 사물을 인지.\n",
        "  2. 테슬라 오토파일럿\n",
        "    * 2015. 10월 준자동 오토파일럿 시스템 소개.\n",
        "    * 고속도로에서 자동주행과 차선변경이 가능하다.\n",
        "\n"
      ]
    }
  ]
}